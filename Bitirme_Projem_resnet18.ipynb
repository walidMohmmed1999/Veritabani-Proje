{
  "nbformat": 4,
  "nbformat_minor": 0,
  "metadata": {
    "colab": {
      "provenance": [],
      "authorship_tag": "ABX9TyPxSATRDjN+iAmTphEofZwq",
      "include_colab_link": true
    },
    "kernelspec": {
      "name": "python3",
      "display_name": "Python 3"
    },
    "language_info": {
      "name": "python"
    }
  },
  "cells": [
    {
      "cell_type": "markdown",
      "metadata": {
        "id": "view-in-github",
        "colab_type": "text"
      },
      "source": [
        "<a href=\"https://colab.research.google.com/github/walidMohmmed1999/Veritabani-Proje/blob/main/Bitirme_Projem_resnet18.ipynb\" target=\"_parent\"><img src=\"https://colab.research.google.com/assets/colab-badge.svg\" alt=\"Open In Colab\"/></a>"
      ]
    },
    {
      "cell_type": "code",
      "execution_count": null,
      "metadata": {
        "colab": {
          "base_uri": "https://localhost:8080/"
        },
        "id": "zVfAy_3vKOLO",
        "outputId": "a77ed0f3-8bfe-42ae-cf0b-d5b950c3fdd1"
      },
      "outputs": [
        {
          "output_type": "stream",
          "name": "stdout",
          "text": [
            "Mounted at /content/drive\n"
          ]
        }
      ],
      "source": [
        "from google.colab import drive\n",
        "\n",
        "drive.mount('/content/drive')\n"
      ]
    },
    {
      "cell_type": "code",
      "source": [
        "import shutil\n",
        "import os\n",
        "\n",
        "def delete_folder(folder_path):\n",
        "    try:\n",
        "        if os.path.exists(folder_path):\n",
        "            shutil.rmtree(folder_path)\n",
        "            print(f\"Folder '{folder_path}' has been deleted successfully.\")\n",
        "        else:\n",
        "            print(f\"The folder '{folder_path}' does not exist.\")\n",
        "    except Exception as e:\n",
        "        print(f\"An error occurred while deleting the folder: {e}\")\n",
        "\n",
        "# Example usage:\n",
        "folder_path = \"/content/drive/MyDrive/DentalRadiographsDataset/Preprocessed\"\n",
        "delete_folder(folder_path)\n"
      ],
      "metadata": {
        "colab": {
          "base_uri": "https://localhost:8080/"
        },
        "id": "mdiY0j6oKcVh",
        "outputId": "bd31f632-00be-4935-d0eb-0d3fc3a94227"
      },
      "execution_count": null,
      "outputs": [
        {
          "output_type": "stream",
          "name": "stdout",
          "text": [
            "Folder '/content/drive/MyDrive/DentalRadiographsDataset/Preprocessed' has been deleted successfully.\n"
          ]
        }
      ]
    },
    {
      "cell_type": "code",
      "source": [
        "import os\n",
        "\n",
        "\n",
        "caries_path = \"/content/drive/MyDrive/DentalRadiographsDataset/Dental_dataset/Childrens dental caries segmentation dataset/Caries/images\"\n",
        "healthy_path = \"/content/drive/MyDrive/DentalRadiographsDataset/Dental_dataset/Childrens dental caries segmentation dataset/Healthy/images\"\n",
        "\n",
        "\n",
        "image_paths = []\n",
        "labels = []\n",
        "\n",
        "for filename in os.listdir(caries_path):\n",
        "    if filename.endswith(\".png\") or filename.endswith(\".jpg\"):\n",
        "        image_paths.append(os.path.join(caries_path, filename))\n",
        "        labels.append(1)\n",
        "\n",
        "for filename in os.listdir(healthy_path):\n",
        "    if filename.endswith(\".png\") or filename.endswith(\".jpg\"):\n",
        "        image_paths.append(os.path.join(healthy_path, filename))\n",
        "        labels.append(0)\n",
        "\n",
        "\n",
        "print(f\"Total images: {len(image_paths)}\")\n",
        "print(f\"Labels distribution: {labels.count(0)} Healthy, {labels.count(1)} Caries\")\n"
      ],
      "metadata": {
        "colab": {
          "base_uri": "https://localhost:8080/"
        },
        "id": "hyhnzZhYKjcx",
        "outputId": "3d425938-7661-485b-ee73-717aa0f1ac31"
      },
      "execution_count": null,
      "outputs": [
        {
          "output_type": "stream",
          "name": "stdout",
          "text": [
            "Total images: 193\n",
            "Labels distribution: 93 Healthy, 100 Caries\n"
          ]
        }
      ]
    },
    {
      "cell_type": "code",
      "source": [
        "import os\n",
        "\n",
        "\n",
        "healthy_augmented_path = \"/content/drive/MyDrive/DentalRadiographsDataset/Dental_dataset/Augmented/Healthy\"\n",
        "caries_augmented_path = \"/content/drive/MyDrive/DentalRadiographsDataset/Dental_dataset/Augmented/Caries\"\n",
        "\n",
        "\n",
        "healthy_count = len([f for f in os.listdir(healthy_augmented_path) if f.endswith(\".png\") or f.endswith(\".jpg\")])\n",
        "caries_count = len([f for f in os.listdir(caries_augmented_path) if f.endswith(\".png\") or f.endswith(\".jpg\")])\n",
        "\n",
        "\n",
        "total_count = healthy_count + caries_count\n",
        "\n",
        "\n",
        "print(f\"Number of augmented images:\")\n",
        "print(f\"  Healthy: {healthy_count}\")\n",
        "print(f\"  Caries: {caries_count}\")\n",
        "print(f\"  Total: {total_count}\")\n"
      ],
      "metadata": {
        "colab": {
          "base_uri": "https://localhost:8080/"
        },
        "id": "Hbkp2y2YKo6U",
        "outputId": "233d3ff8-dab6-4f21-dff4-8cf451357cb0"
      },
      "execution_count": null,
      "outputs": [
        {
          "output_type": "stream",
          "name": "stdout",
          "text": [
            "Number of augmented images:\n",
            "  Healthy: 2976\n",
            "  Caries: 3000\n",
            "  Total: 5976\n"
          ]
        }
      ]
    },
    {
      "cell_type": "code",
      "source": [
        "import os\n",
        "import shutil\n",
        "from sklearn.model_selection import train_test_split\n",
        "\n",
        "\n",
        "healthy_augmented_path = \"/content/drive/MyDrive/DentalRadiographsDataset/Dental_dataset/Augmented/Healthy\"\n",
        "caries_augmented_path = \"/content/drive/MyDrive/DentalRadiographsDataset/Dental_dataset/Augmented/Caries\"\n",
        "\n",
        "\n",
        "output_base_path = \"/content/drive/MyDrive/DentalRadiographsDataset/Dental_dataset/RandomSplit\"\n",
        "train_output_path = os.path.join(output_base_path, \"Train\")\n",
        "val_output_path = os.path.join(output_base_path, \"Validation\")\n",
        "test_output_path = os.path.join(output_base_path, \"Test\")\n",
        "\n",
        "\n",
        "for split_path in [train_output_path, val_output_path, test_output_path]:\n",
        "    os.makedirs(os.path.join(split_path, \"Healthy\"), exist_ok=True)\n",
        "    os.makedirs(os.path.join(split_path, \"Caries\"), exist_ok=True)\n",
        "\n",
        "all_data = []\n",
        "for file_name in os.listdir(healthy_augmented_path):\n",
        "    if file_name.endswith((\".png\", \".jpg\")):\n",
        "        all_data.append({\"path\": os.path.join(healthy_augmented_path, file_name), \"label\": 0})  # Healthy label = 0\n",
        "\n",
        "for file_name in os.listdir(caries_augmented_path):\n",
        "    if file_name.endswith((\".png\", \".jpg\")):\n",
        "        all_data.append({\"path\": os.path.join(caries_augmented_path, file_name), \"label\": 1})  # Caries label = 1\n",
        "\n",
        "\n",
        "train_data, temp_data = train_test_split(all_data, test_size=0.3, random_state=42, stratify=[item[\"label\"] for item in all_data])\n",
        "val_data, test_data = train_test_split(temp_data, test_size=0.5, random_state=42, stratify=[item[\"label\"] for item in temp_data])\n",
        "\n",
        "\n",
        "def copy_files(data, destination_path):\n",
        "    for item in data:\n",
        "        label_folder = \"Healthy\" if item[\"label\"] == 0 else \"Caries\"\n",
        "        dest_folder = os.path.join(destination_path, label_folder)\n",
        "        shutil.copy(item[\"path\"], dest_folder)\n",
        "\n",
        "\n",
        "copy_files(train_data, train_output_path)\n",
        "copy_files(val_data, val_output_path)\n",
        "copy_files(test_data, test_output_path)\n",
        "\n",
        "\n",
        "print(\"Splitting complete!\")\n",
        "print(f\"Train set: {len(train_data)} images\")\n",
        "print(f\"Validation set: {len(val_data)} images\")\n",
        "print(f\"Test set: {len(test_data)} images\")\n"
      ],
      "metadata": {
        "colab": {
          "base_uri": "https://localhost:8080/"
        },
        "id": "fkV0j1nxKvyw",
        "outputId": "a2479bb3-e6f9-443d-86ea-c64387c80613"
      },
      "execution_count": null,
      "outputs": [
        {
          "output_type": "stream",
          "name": "stdout",
          "text": [
            "Splitting complete!\n",
            "Train set: 4183 images\n",
            "Validation set: 896 images\n",
            "Test set: 897 images\n"
          ]
        }
      ]
    },
    {
      "cell_type": "code",
      "source": [
        "import os\n",
        "\n",
        "\n",
        "random_split_base_path = \"/content/drive/MyDrive/DentalRadiographsDataset/Dental_dataset/RandomSplit\"\n",
        "\n",
        "\n",
        "splits = [\"Train\", \"Validation\", \"Test\"]\n",
        "classes = [\"Healthy\", \"Caries\"]\n",
        "\n",
        "\n",
        "for split in splits:\n",
        "    print(f\"\\nChecking {split} split:\")\n",
        "    total_images = 0\n",
        "    for class_name in classes:\n",
        "        class_path = os.path.join(random_split_base_path, split, class_name)\n",
        "        if os.path.exists(class_path):\n",
        "            image_count = len([f for f in os.listdir(class_path) if f.endswith((\".png\", \".jpg\"))])\n",
        "            total_images += image_count\n",
        "            print(f\"  {class_name}: {image_count} images\")\n",
        "        else:\n",
        "            print(f\"  ❌ Missing folder: {class_path}\")\n",
        "    print(f\"  Total images in {split}: {total_images}\")\n"
      ],
      "metadata": {
        "colab": {
          "base_uri": "https://localhost:8080/"
        },
        "id": "uMexesZeQWOy",
        "outputId": "7a3de093-7456-4d49-acc8-5593aad87afc"
      },
      "execution_count": null,
      "outputs": [
        {
          "output_type": "stream",
          "name": "stdout",
          "text": [
            "\n",
            "Checking Train split:\n",
            "  Healthy: 2083 images\n",
            "  Caries: 2100 images\n",
            "  Total images in Train: 4183\n",
            "\n",
            "Checking Validation split:\n",
            "  Healthy: 446 images\n",
            "  Caries: 450 images\n",
            "  Total images in Validation: 896\n",
            "\n",
            "Checking Test split:\n",
            "  Healthy: 447 images\n",
            "  Caries: 450 images\n",
            "  Total images in Test: 897\n"
          ]
        }
      ]
    },
    {
      "cell_type": "code",
      "source": [
        "import os\n",
        "import json\n",
        "\n",
        "\n",
        "base_path = \"/content/drive/MyDrive/DentalRadiographsDataset/Dental_dataset/RandomSplit\"\n",
        "splits = [\"Train\", \"Validation\", \"Test\"]\n",
        "classes = {\"Healthy\": 0, \"Caries\": 1}\n",
        "\n",
        "dataset_metadata = {split: [] for split in splits}\n",
        "\n",
        "for split in splits:\n",
        "    for class_name, label in classes.items():\n",
        "        class_path = os.path.join(base_path, split, class_name)\n",
        "        for file_name in os.listdir(class_path):\n",
        "            if file_name.endswith((\".png\", \".jpg\")):\n",
        "                file_path = os.path.join(class_path, file_name)\n",
        "                dataset_metadata[split].append({\"path\": file_path, \"label\": label})\n",
        "\n",
        "\n",
        "for split in splits:\n",
        "    print(f\"{split} dataset:\")\n",
        "    print(f\"  Total images: {len(dataset_metadata[split])}\")\n",
        "    healthy_count = sum(1 for item in dataset_metadata[split] if item[\"label\"] == 0)\n",
        "    caries_count = sum(1 for item in dataset_metadata[split] if item[\"label\"] == 1)\n",
        "    print(f\"  Healthy: {healthy_count}, Caries: {caries_count}\")\n",
        "\n",
        "\n",
        "metadata_path = \"/content/drive/MyDrive/DentalRadiographsDataset/random_split_metadata.json\"\n",
        "with open(metadata_path, \"w\") as f:\n",
        "    json.dump(dataset_metadata, f)\n",
        "\n",
        "print(f\"Metadata saved to {metadata_path}\")\n"
      ],
      "metadata": {
        "colab": {
          "base_uri": "https://localhost:8080/"
        },
        "id": "4O4CIGBiSEHV",
        "outputId": "7ab07776-ee85-4210-bf4a-eb57d08d4d38"
      },
      "execution_count": null,
      "outputs": [
        {
          "output_type": "stream",
          "name": "stdout",
          "text": [
            "Train dataset:\n",
            "  Total images: 4183\n",
            "  Healthy: 2083, Caries: 2100\n",
            "Validation dataset:\n",
            "  Total images: 896\n",
            "  Healthy: 446, Caries: 450\n",
            "Test dataset:\n",
            "  Total images: 897\n",
            "  Healthy: 447, Caries: 450\n",
            "Metadata saved to /content/drive/MyDrive/DentalRadiographsDataset/random_split_metadata.json\n"
          ]
        }
      ]
    },
    {
      "cell_type": "code",
      "source": [
        "import cv2\n",
        "import os\n",
        "from tqdm import tqdm\n",
        "import json\n",
        "\n",
        "\n",
        "metadata_path = \"/content/drive/MyDrive/DentalRadiographsDataset/random_split_metadata.json\"\n",
        "with open(metadata_path, \"r\") as f:\n",
        "    dataset_metadata = json.load(f)\n",
        "\n",
        "\n",
        "preprocessed_base_path = \"/content/drive/MyDrive/DentalRadiographsDataset/Preprocessed/RandomSplit\"\n",
        "os.makedirs(preprocessed_base_path, exist_ok=True)\n",
        "\n",
        "\n",
        "def preprocess_and_save(metadata, split_name):\n",
        "    output_path = os.path.join(preprocessed_base_path, split_name)\n",
        "    os.makedirs(output_path, exist_ok=True)\n",
        "    for item in tqdm(metadata, desc=f\"Processing {split_name} images\"):\n",
        "\n",
        "        img = cv2.imread(item[\"path\"])\n",
        "        if img is None:\n",
        "            print(f\"Error reading {item['path']}\")\n",
        "            continue\n",
        "\n",
        "        img_resized = cv2.resize(img, (224, 224))\n",
        "\n",
        "        img_normalized = img_resized / 255.0\n",
        "\n",
        "        label_folder = \"Healthy\" if item[\"label\"] == 0 else \"Caries\"\n",
        "        split_output_path = os.path.join(output_path, label_folder)\n",
        "        os.makedirs(split_output_path, exist_ok=True)\n",
        "        file_name = os.path.basename(item[\"path\"])\n",
        "        output_file_path = os.path.join(split_output_path, file_name)\n",
        "        cv2.imwrite(output_file_path, (img_normalized * 255).astype(\"uint8\"))\n",
        "    print(f\"Finished preprocessing {split_name} images.\")\n",
        "\n",
        "for split in [\"Train\", \"Validation\", \"Test\"]:\n",
        "    preprocess_and_save(dataset_metadata[split], split)\n",
        "\n",
        "print(\"All images have been resized and normalized!\")\n"
      ],
      "metadata": {
        "colab": {
          "base_uri": "https://localhost:8080/"
        },
        "id": "kncBk4jpSlO1",
        "outputId": "f669e600-f0d6-4a3b-b1be-642b4cebe66c"
      },
      "execution_count": null,
      "outputs": [
        {
          "output_type": "stream",
          "name": "stderr",
          "text": [
            "Processing Train images: 100%|██████████| 4183/4183 [02:28<00:00, 28.11it/s]\n"
          ]
        },
        {
          "output_type": "stream",
          "name": "stdout",
          "text": [
            "Finished preprocessing Train images.\n"
          ]
        },
        {
          "output_type": "stream",
          "name": "stderr",
          "text": [
            "Processing Validation images: 100%|██████████| 896/896 [00:30<00:00, 29.07it/s]\n"
          ]
        },
        {
          "output_type": "stream",
          "name": "stdout",
          "text": [
            "Finished preprocessing Validation images.\n"
          ]
        },
        {
          "output_type": "stream",
          "name": "stderr",
          "text": [
            "Processing Test images: 100%|██████████| 897/897 [00:29<00:00, 29.92it/s]"
          ]
        },
        {
          "output_type": "stream",
          "name": "stdout",
          "text": [
            "Finished preprocessing Test images.\n",
            "All images have been resized and normalized!\n"
          ]
        },
        {
          "output_type": "stream",
          "name": "stderr",
          "text": [
            "\n"
          ]
        }
      ]
    },
    {
      "cell_type": "code",
      "source": [
        "import os\n",
        "import cv2\n",
        "import numpy as np\n",
        "\n",
        "preprocessed_base_path = \"/content/drive/MyDrive/DentalRadiographsDataset/Preprocessed/RandomSplit\"\n",
        "\n",
        "splits = [\"Train\", \"Validation\", \"Test\"]\n",
        "classes = [\"Healthy\", \"Caries\"]\n",
        "\n",
        "verification_results = {}\n",
        "\n",
        "for split in splits:\n",
        "    print(f\"\\nVerifying {split} split:\")\n",
        "    split_total = 0\n",
        "    verification_results[split] = {}\n",
        "    for class_name in classes:\n",
        "        class_path = os.path.join(preprocessed_base_path, split, class_name)\n",
        "        if not os.path.exists(class_path):\n",
        "            print(f\"  ❌ Missing folder: {class_path}\")\n",
        "            continue\n",
        "        images = os.listdir(class_path)\n",
        "        image_count = len(images)\n",
        "        split_total += image_count\n",
        "        verification_results[split][class_name] = image_count\n",
        "        print(f\"  ✅ {class_name}: {image_count} images\")\n",
        "\n",
        "\n",
        "        for img_name in images[:5]:\n",
        "            img_path = os.path.join(class_path, img_name)\n",
        "            img = cv2.imread(img_path)\n",
        "            if img is None:\n",
        "                print(f\"    ❌ Image {img_name} could not be read.\")\n",
        "                continue\n",
        "            if img.shape[:2] != (224, 224):\n",
        "                print(f\"    ❌ Image {img_name} has incorrect dimensions: {img.shape[:2]}\")\n",
        "            if np.max(img) > 255 or np.min(img) < 0:\n",
        "                print(f\"    ❌ Image {img_name} has incorrect pixel range: Min={np.min(img)}, Max={np.max(img)}\")\n",
        "            else:\n",
        "                print(f\"    ✅ Image {img_name} is properly resized and normalized.\")\n",
        "    print(f\"  Total images in {split}: {split_total}\")\n",
        "\n",
        "print(\"\\nVerification Complete!\")\n",
        "for split in splits:\n",
        "    print(f\"{split} Summary:\")\n",
        "    for class_name in classes:\n",
        "        print(f\"  {class_name}: {verification_results[split].get(class_name, 0)} images\")\n"
      ],
      "metadata": {
        "colab": {
          "base_uri": "https://localhost:8080/"
        },
        "id": "W7Bk9uxSUPam",
        "outputId": "d12d1f92-0627-434b-c169-b1db72d927c1"
      },
      "execution_count": null,
      "outputs": [
        {
          "output_type": "stream",
          "name": "stdout",
          "text": [
            "\n",
            "Verifying Train split:\n",
            "  ✅ Healthy: 2083 images\n",
            "    ✅ Image healthy_024_aug_28.png is properly resized and normalized.\n",
            "    ✅ Image healthy_081_aug_0.png is properly resized and normalized.\n",
            "    ✅ Image healthy_022_aug_29.png is properly resized and normalized.\n",
            "    ✅ Image healthy_026_aug_22.png is properly resized and normalized.\n",
            "    ✅ Image healthy_031_aug_12.png is properly resized and normalized.\n",
            "  ✅ Caries: 2100 images\n",
            "    ✅ Image caries_051_aug_26.png is properly resized and normalized.\n",
            "    ✅ Image caries_051_aug_20.png is properly resized and normalized.\n",
            "    ✅ Image caries_035_aug_4.png is properly resized and normalized.\n",
            "    ✅ Image caries_021_aug_25.png is properly resized and normalized.\n",
            "    ✅ Image caries_017_aug_14.png is properly resized and normalized.\n",
            "  Total images in Train: 4183\n",
            "\n",
            "Verifying Validation split:\n",
            "  ✅ Healthy: 446 images\n",
            "    ✅ Image healthy_090_aug_6.png is properly resized and normalized.\n",
            "    ✅ Image healthy_042_aug_27.png is properly resized and normalized.\n",
            "    ✅ Image healthy_014_aug_17.png is properly resized and normalized.\n",
            "    ✅ Image healthy_089_aug_20.png is properly resized and normalized.\n",
            "    ✅ Image healthy_056_aug_15.png is properly resized and normalized.\n",
            "  ✅ Caries: 450 images\n",
            "    ✅ Image caries_072_aug_25.png is properly resized and normalized.\n",
            "    ✅ Image caries_023_aug_28.png is properly resized and normalized.\n",
            "    ✅ Image caries_069_aug_27.png is properly resized and normalized.\n",
            "    ✅ Image caries_047_aug_4.png is properly resized and normalized.\n",
            "    ✅ Image caries_026_aug_28.png is properly resized and normalized.\n",
            "  Total images in Validation: 896\n",
            "\n",
            "Verifying Test split:\n",
            "  ✅ Healthy: 447 images\n",
            "    ✅ Image healthy_081_aug_24.png is properly resized and normalized.\n",
            "    ✅ Image healthy_079_aug_11.png is properly resized and normalized.\n",
            "    ✅ Image healthy_051_aug_12.png is properly resized and normalized.\n",
            "    ✅ Image healthy_069_aug_4.png is properly resized and normalized.\n",
            "    ✅ Image healthy_052_aug_23.png is properly resized and normalized.\n",
            "  ✅ Caries: 450 images\n",
            "    ✅ Image caries_003_aug_18.png is properly resized and normalized.\n",
            "    ✅ Image caries_073_aug_1.png is properly resized and normalized.\n",
            "    ✅ Image caries_027_aug_20.png is properly resized and normalized.\n",
            "    ✅ Image caries_053_aug_27.png is properly resized and normalized.\n",
            "    ✅ Image caries_008_aug_19.png is properly resized and normalized.\n",
            "  Total images in Test: 897\n",
            "\n",
            "Verification Complete!\n",
            "Train Summary:\n",
            "  Healthy: 2083 images\n",
            "  Caries: 2100 images\n",
            "Validation Summary:\n",
            "  Healthy: 446 images\n",
            "  Caries: 450 images\n",
            "Test Summary:\n",
            "  Healthy: 447 images\n",
            "  Caries: 450 images\n"
          ]
        }
      ]
    },
    {
      "cell_type": "code",
      "source": [
        "import torch\n",
        "from torch.utils.data import Dataset, DataLoader\n",
        "from torchvision import transforms\n",
        "import cv2\n",
        "import json\n",
        "import os\n",
        "\n",
        "metadata_path = \"/content/drive/MyDrive/DentalRadiographsDataset/random_split_metadata.json\"\n",
        "with open(metadata_path, \"r\") as f:\n",
        "    dataset_metadata = json.load(f)\n",
        "\n",
        "image_transforms = transforms.Compose([\n",
        "    transforms.ToTensor(),\n",
        "    transforms.Normalize(mean=[0.5], std=[0.5])\n",
        "])\n",
        "\n",
        "\n",
        "class DentalDataset(Dataset):\n",
        "    def __init__(self, metadata, transform=None):\n",
        "        self.metadata = metadata\n",
        "        self.transform = transform\n",
        "\n",
        "    def __len__(self):\n",
        "        return len(self.metadata)\n",
        "\n",
        "    def __getitem__(self, idx):\n",
        "\n",
        "        item = self.metadata[idx]\n",
        "        img_path = item[\"path\"]\n",
        "        label = item[\"label\"]\n",
        "\n",
        "\n",
        "        image = cv2.imread(img_path, cv2.IMREAD_GRAYSCALE)\n",
        "        if image is None:\n",
        "            raise ValueError(f\"Image not found at {img_path}\")\n",
        "\n",
        "\n",
        "        image = cv2.cvtColor(image, cv2.COLOR_GRAY2RGB)\n",
        "\n",
        "\n",
        "        if self.transform:\n",
        "            image = self.transform(image)\n",
        "\n",
        "        return image, label\n",
        "\n",
        "\n",
        "\n",
        "train_dataset = DentalDataset(dataset_metadata[\"Train\"], transform=image_transforms)\n",
        "val_dataset = DentalDataset(dataset_metadata[\"Validation\"], transform=image_transforms)\n",
        "test_dataset = DentalDataset(dataset_metadata[\"Test\"], transform=image_transforms)\n",
        "\n",
        "\n",
        "batch_size = 32\n",
        "num_workers = 2\n",
        "train_loader = DataLoader(train_dataset, batch_size=batch_size, shuffle=True, num_workers=num_workers)\n",
        "val_loader = DataLoader(val_dataset, batch_size=batch_size, shuffle=False, num_workers=num_workers)\n",
        "test_loader = DataLoader(test_dataset, batch_size=batch_size, shuffle=False, num_workers=num_workers)\n",
        "\n",
        "print(f\"Train dataset size: {len(train_dataset)}\")\n",
        "print(f\"Validation dataset size: {len(val_dataset)}\")\n",
        "print(f\"Test dataset size: {len(test_dataset)}\")\n",
        "\n",
        "print(f\"Train loader batches: {len(train_loader)}\")\n",
        "print(f\"Validation loader batches: {len(val_loader)}\")\n",
        "print(f\"Test loader batches: {len(test_loader)}\")\n"
      ],
      "metadata": {
        "colab": {
          "base_uri": "https://localhost:8080/"
        },
        "id": "gd2_RoAVU3Qn",
        "outputId": "bf096b8a-3d44-4b68-a526-e8b8f040eeff"
      },
      "execution_count": null,
      "outputs": [
        {
          "output_type": "stream",
          "name": "stdout",
          "text": [
            "Train dataset size: 4183\n",
            "Validation dataset size: 896\n",
            "Test dataset size: 897\n",
            "Train loader batches: 131\n",
            "Validation loader batches: 28\n",
            "Test loader batches: 29\n"
          ]
        }
      ]
    },
    {
      "cell_type": "code",
      "source": [
        "import torch\n",
        "import torch.nn as nn\n",
        "from torchvision import models\n",
        "from torch.optim import Adam\n",
        "from torch.optim.lr_scheduler import StepLR\n",
        "from tqdm import tqdm\n",
        "\n",
        "\n",
        "device = torch.device(\"cuda\" if torch.cuda.is_available() else \"cpu\")\n",
        "print(f\"Using device: {device}\")\n",
        "\n",
        "\n",
        "model = models.resnet18(pretrained=True)\n",
        "\n",
        "\n",
        "model.fc = nn.Sequential(\n",
        "    nn.Linear(model.fc.in_features, 1),\n",
        "    nn.Sigmoid()\n",
        ")\n",
        "model = model.to(device)\n",
        "\n",
        "criterion = nn.BCELoss()\n",
        "optimizer = Adam(model.parameters(), lr=0.001)\n",
        "scheduler = StepLR(optimizer, step_size=5, gamma=0.1)\n",
        "\n",
        "\n",
        "def train_epoch(model, train_loader, criterion, optimizer):\n",
        "    model.train()\n",
        "    train_loss = 0.0\n",
        "    train_correct = 0\n",
        "    total_samples = 0\n",
        "\n",
        "    for inputs, labels in tqdm(train_loader, desc=\"Training\"):\n",
        "        inputs, labels = inputs.to(device), labels.to(device).float().view(-1, 1)\n",
        "\n",
        "\n",
        "        outputs = model(inputs)\n",
        "        loss = criterion(outputs, labels)\n",
        "\n",
        "\n",
        "        optimizer.zero_grad()\n",
        "        loss.backward()\n",
        "        optimizer.step()\n",
        "\n",
        "\n",
        "        train_loss += loss.item() * inputs.size(0)\n",
        "        predictions = (outputs > 0.5).float()\n",
        "        train_correct += (predictions == labels).sum().item()\n",
        "        total_samples += inputs.size(0)\n",
        "\n",
        "    train_loss /= total_samples\n",
        "    train_accuracy = train_correct / total_samples\n",
        "    return train_loss, train_accuracy\n",
        "\n",
        "\n",
        "def validate_epoch(model, val_loader, criterion):\n",
        "    model.eval()\n",
        "    val_loss = 0.0\n",
        "    val_correct = 0\n",
        "    total_samples = 0\n",
        "\n",
        "    with torch.no_grad():\n",
        "        for inputs, labels in tqdm(val_loader, desc=\"Validation\"):\n",
        "            inputs, labels = inputs.to(device), labels.to(device).float().view(-1, 1)\n",
        "            outputs = model(inputs)\n",
        "            loss = criterion(outputs, labels)\n",
        "\n",
        "            # Accumulate loss and accuracy\n",
        "            val_loss += loss.item() * inputs.size(0)\n",
        "            predictions = (outputs > 0.5).float()\n",
        "            val_correct += (predictions == labels).sum().item()\n",
        "            total_samples += inputs.size(0)\n",
        "\n",
        "    val_loss /= total_samples\n",
        "    val_accuracy = val_correct / total_samples\n",
        "    return val_loss, val_accuracy\n",
        "\n",
        "\n",
        "def train_model(model, train_loader, val_loader, criterion, optimizer, scheduler, num_epochs=10):\n",
        "    best_val_accuracy = 0.0\n",
        "    for epoch in range(num_epochs):\n",
        "        print(f\"Epoch {epoch + 1}/{num_epochs}\")\n",
        "\n",
        "\n",
        "        train_loss, train_accuracy = train_epoch(model, train_loader, criterion, optimizer)\n",
        "\n",
        "        val_loss, val_accuracy = validate_epoch(model, val_loader, criterion)\n",
        "\n",
        "\n",
        "        scheduler.step()\n",
        "\n",
        "        print(f\"Train Loss: {train_loss:.4f}, Train Accuracy: {train_accuracy:.4f}\")\n",
        "        print(f\"Val Loss: {val_loss:.4f}, Val Accuracy: {val_accuracy:.4f}\")\n",
        "\n",
        "\n",
        "        if val_accuracy > best_val_accuracy:\n",
        "            best_val_accuracy = val_accuracy\n",
        "            torch.save(model.state_dict(), \"best_resnet18_model.pth\")\n",
        "            print(f\"Best model saved with Val Accuracy: {val_accuracy:.4f}\")\n",
        "\n",
        "    print(\"Training Complete!\")\n",
        "    print(f\"Best Validation Accuracy: {best_val_accuracy:.4f}\")\n",
        "\n",
        "\n",
        "\n",
        "train_model(model, train_loader, val_loader, criterion, optimizer, scheduler, num_epochs=10)\n"
      ],
      "metadata": {
        "colab": {
          "base_uri": "https://localhost:8080/"
        },
        "id": "C_Ye4iZ1Vu5Y",
        "outputId": "7ab17102-fb9f-41c9-8c7a-70147c474b7c"
      },
      "execution_count": null,
      "outputs": [
        {
          "output_type": "stream",
          "name": "stdout",
          "text": [
            "Using device: cuda\n"
          ]
        },
        {
          "output_type": "stream",
          "name": "stderr",
          "text": [
            "/usr/local/lib/python3.10/dist-packages/torchvision/models/_utils.py:208: UserWarning: The parameter 'pretrained' is deprecated since 0.13 and may be removed in the future, please use 'weights' instead.\n",
            "  warnings.warn(\n",
            "/usr/local/lib/python3.10/dist-packages/torchvision/models/_utils.py:223: UserWarning: Arguments other than a weight enum or `None` for 'weights' are deprecated since 0.13 and may be removed in the future. The current behavior is equivalent to passing `weights=ResNet18_Weights.IMAGENET1K_V1`. You can also use `weights=ResNet18_Weights.DEFAULT` to get the most up-to-date weights.\n",
            "  warnings.warn(msg)\n",
            "Downloading: \"https://download.pytorch.org/models/resnet18-f37072fd.pth\" to /root/.cache/torch/hub/checkpoints/resnet18-f37072fd.pth\n",
            "100%|██████████| 44.7M/44.7M [00:00<00:00, 181MB/s]\n"
          ]
        },
        {
          "output_type": "stream",
          "name": "stdout",
          "text": [
            "Epoch 1/10\n"
          ]
        },
        {
          "output_type": "stream",
          "name": "stderr",
          "text": [
            "Training: 100%|██████████| 131/131 [25:09<00:00, 11.53s/it]\n",
            "Validation: 100%|██████████| 28/28 [05:14<00:00, 11.23s/it]\n"
          ]
        },
        {
          "output_type": "stream",
          "name": "stdout",
          "text": [
            "Train Loss: 0.5656, Train Accuracy: 0.7181\n",
            "Val Loss: 0.8655, Val Accuracy: 0.5915\n",
            "Best model saved with Val Accuracy: 0.5915\n",
            "Epoch 2/10\n"
          ]
        },
        {
          "output_type": "stream",
          "name": "stderr",
          "text": [
            "Training: 100%|██████████| 131/131 [00:19<00:00,  6.77it/s]\n",
            "Validation: 100%|██████████| 28/28 [00:04<00:00,  6.49it/s]\n"
          ]
        },
        {
          "output_type": "stream",
          "name": "stdout",
          "text": [
            "Train Loss: 0.2890, Train Accuracy: 0.8752\n",
            "Val Loss: 0.3093, Val Accuracy: 0.8850\n",
            "Best model saved with Val Accuracy: 0.8850\n",
            "Epoch 3/10\n"
          ]
        },
        {
          "output_type": "stream",
          "name": "stderr",
          "text": [
            "Training: 100%|██████████| 131/131 [00:19<00:00,  6.68it/s]\n",
            "Validation: 100%|██████████| 28/28 [00:04<00:00,  6.57it/s]\n"
          ]
        },
        {
          "output_type": "stream",
          "name": "stdout",
          "text": [
            "Train Loss: 0.1621, Train Accuracy: 0.9359\n",
            "Val Loss: 0.7314, Val Accuracy: 0.7310\n",
            "Epoch 4/10\n"
          ]
        },
        {
          "output_type": "stream",
          "name": "stderr",
          "text": [
            "Training: 100%|██████████| 131/131 [00:18<00:00,  6.92it/s]\n",
            "Validation: 100%|██████████| 28/28 [00:04<00:00,  6.72it/s]\n"
          ]
        },
        {
          "output_type": "stream",
          "name": "stdout",
          "text": [
            "Train Loss: 0.1085, Train Accuracy: 0.9584\n",
            "Val Loss: 0.1971, Val Accuracy: 0.9107\n",
            "Best model saved with Val Accuracy: 0.9107\n",
            "Epoch 5/10\n"
          ]
        },
        {
          "output_type": "stream",
          "name": "stderr",
          "text": [
            "Training: 100%|██████████| 131/131 [00:19<00:00,  6.64it/s]\n",
            "Validation: 100%|██████████| 28/28 [00:04<00:00,  6.79it/s]\n"
          ]
        },
        {
          "output_type": "stream",
          "name": "stdout",
          "text": [
            "Train Loss: 0.0791, Train Accuracy: 0.9682\n",
            "Val Loss: 0.5573, Val Accuracy: 0.8426\n",
            "Epoch 6/10\n"
          ]
        },
        {
          "output_type": "stream",
          "name": "stderr",
          "text": [
            "Training: 100%|██████████| 131/131 [00:19<00:00,  6.67it/s]\n",
            "Validation: 100%|██████████| 28/28 [00:04<00:00,  6.63it/s]\n"
          ]
        },
        {
          "output_type": "stream",
          "name": "stdout",
          "text": [
            "Train Loss: 0.0307, Train Accuracy: 0.9902\n",
            "Val Loss: 0.0467, Val Accuracy: 0.9777\n",
            "Best model saved with Val Accuracy: 0.9777\n",
            "Epoch 7/10\n"
          ]
        },
        {
          "output_type": "stream",
          "name": "stderr",
          "text": [
            "Training: 100%|██████████| 131/131 [00:19<00:00,  6.62it/s]\n",
            "Validation: 100%|██████████| 28/28 [00:04<00:00,  6.67it/s]\n"
          ]
        },
        {
          "output_type": "stream",
          "name": "stdout",
          "text": [
            "Train Loss: 0.0086, Train Accuracy: 0.9990\n",
            "Val Loss: 0.0371, Val Accuracy: 0.9844\n",
            "Best model saved with Val Accuracy: 0.9844\n",
            "Epoch 8/10\n"
          ]
        },
        {
          "output_type": "stream",
          "name": "stderr",
          "text": [
            "Training: 100%|██████████| 131/131 [00:19<00:00,  6.67it/s]\n",
            "Validation: 100%|██████████| 28/28 [00:04<00:00,  6.72it/s]\n"
          ]
        },
        {
          "output_type": "stream",
          "name": "stdout",
          "text": [
            "Train Loss: 0.0060, Train Accuracy: 0.9998\n",
            "Val Loss: 0.0407, Val Accuracy: 0.9810\n",
            "Epoch 9/10\n"
          ]
        },
        {
          "output_type": "stream",
          "name": "stderr",
          "text": [
            "Training: 100%|██████████| 131/131 [00:19<00:00,  6.65it/s]\n",
            "Validation: 100%|██████████| 28/28 [00:04<00:00,  6.38it/s]\n"
          ]
        },
        {
          "output_type": "stream",
          "name": "stdout",
          "text": [
            "Train Loss: 0.0046, Train Accuracy: 0.9995\n",
            "Val Loss: 0.0382, Val Accuracy: 0.9855\n",
            "Best model saved with Val Accuracy: 0.9855\n",
            "Epoch 10/10\n"
          ]
        },
        {
          "output_type": "stream",
          "name": "stderr",
          "text": [
            "Training: 100%|██████████| 131/131 [00:19<00:00,  6.64it/s]\n",
            "Validation: 100%|██████████| 28/28 [00:04<00:00,  6.77it/s]"
          ]
        },
        {
          "output_type": "stream",
          "name": "stdout",
          "text": [
            "Train Loss: 0.0031, Train Accuracy: 0.9998\n",
            "Val Loss: 0.0310, Val Accuracy: 0.9833\n",
            "Training Complete!\n",
            "Best Validation Accuracy: 0.9855\n"
          ]
        },
        {
          "output_type": "stream",
          "name": "stderr",
          "text": [
            "\n"
          ]
        }
      ]
    },
    {
      "cell_type": "code",
      "source": [
        "import torch\n",
        "from torchvision import models\n",
        "import torch.nn as nn\n",
        "\n",
        "\n",
        "device = torch.device(\"cuda\" if torch.cuda.is_available() else \"cpu\")\n",
        "print(f\"Using device: {device}\")\n",
        "\n",
        "\n",
        "model = models.resnet18()\n",
        "model.fc = nn.Sequential(\n",
        "    nn.Linear(model.fc.in_features, 1),\n",
        "    nn.Sigmoid()\n",
        ")\n",
        "\n",
        "\n",
        "model_path = \"/content/drive/MyDrive/DentalRadiographsDataset/best_resnet18_model.pth\"\n",
        "\n",
        "\n",
        "model.load_state_dict(torch.load(model_path, map_location=device))\n",
        "model = model.to(device)\n",
        "model.eval()\n",
        "\n",
        "print(\"Model loaded successfully from Google Drive and ready for evaluation!\")\n"
      ],
      "metadata": {
        "colab": {
          "base_uri": "https://localhost:8080/"
        },
        "id": "xKSTIANUVdFY",
        "outputId": "27ee9399-5c80-49f6-bcea-2cf5b11e9897"
      },
      "execution_count": null,
      "outputs": [
        {
          "output_type": "stream",
          "name": "stdout",
          "text": [
            "Using device: cpu\n"
          ]
        },
        {
          "output_type": "stream",
          "name": "stderr",
          "text": [
            "<ipython-input-8-bc009ac13125>:20: FutureWarning: You are using `torch.load` with `weights_only=False` (the current default value), which uses the default pickle module implicitly. It is possible to construct malicious pickle data which will execute arbitrary code during unpickling (See https://github.com/pytorch/pytorch/blob/main/SECURITY.md#untrusted-models for more details). In a future release, the default value for `weights_only` will be flipped to `True`. This limits the functions that could be executed during unpickling. Arbitrary objects will no longer be allowed to be loaded via this mode unless they are explicitly allowlisted by the user via `torch.serialization.add_safe_globals`. We recommend you start setting `weights_only=True` for any use case where you don't have full control of the loaded file. Please open an issue on GitHub for any issues related to this experimental feature.\n",
            "  model.load_state_dict(torch.load(model_path, map_location=device))\n"
          ]
        },
        {
          "output_type": "stream",
          "name": "stdout",
          "text": [
            "Model loaded successfully from Google Drive and ready for evaluation!\n"
          ]
        }
      ]
    },
    {
      "cell_type": "code",
      "source": [
        "import torch\n",
        "import cv2\n",
        "import numpy as np\n",
        "\n",
        "\n",
        "model_path = \"/content/drive/MyDrive/DentalRadiographsDataset/best_resnet18_full_model.pth\"\n",
        "device = torch.device('cuda' if torch.cuda.is_available() else 'cpu')\n",
        "model = torch.load(model_path, map_location=device)\n",
        "model = model.to(device)\n",
        "\n",
        "\n",
        "def classify_image(model, image_path):\n",
        "    model.eval()\n",
        "\n",
        "\n",
        "    image = cv2.imread(image_path, cv2.IMREAD_GRAYSCALE)\n",
        "    if image is None:\n",
        "        raise ValueError(f\"Image not found at {image_path}\")\n",
        "\n",
        "\n",
        "    image = cv2.cvtColor(image, cv2.COLOR_GRAY2RGB)\n",
        "\n",
        "\n",
        "    image = cv2.resize(image, (224, 224))\n",
        "\n",
        "\n",
        "    image = (image / 127.5) - 1\n",
        "\n",
        "\n",
        "    image_tensor = torch.tensor(image).permute(2, 0, 1).unsqueeze(0).float().to(device)\n",
        "\n",
        "\n",
        "    with torch.no_grad():\n",
        "        output = model(image_tensor)\n",
        "        prediction = (output > 0.5).float().item()\n",
        "\n",
        "    label = \"Caries\" if prediction == 1 else \"Healthy\"\n",
        "    return label\n",
        "\n",
        "image_path = \"/content/drive/MyDrive/DentalRadiographsDataset/Dental_dataset/Childrens dental caries segmentation dataset/Healthy/images/cate1_0001.png\"  # Replace with your image path\n",
        "result = classify_image(model, image_path)\n",
        "print(f\"The image at {image_path} is classified as: {result}\")\n"
      ],
      "metadata": {
        "colab": {
          "base_uri": "https://localhost:8080/"
        },
        "id": "44tEEL7dnCTO",
        "outputId": "e053214a-84af-4f44-800b-f846bd73d78b"
      },
      "execution_count": null,
      "outputs": [
        {
          "output_type": "stream",
          "name": "stderr",
          "text": [
            "<ipython-input-9-c6f727df2b65>:8: FutureWarning: You are using `torch.load` with `weights_only=False` (the current default value), which uses the default pickle module implicitly. It is possible to construct malicious pickle data which will execute arbitrary code during unpickling (See https://github.com/pytorch/pytorch/blob/main/SECURITY.md#untrusted-models for more details). In a future release, the default value for `weights_only` will be flipped to `True`. This limits the functions that could be executed during unpickling. Arbitrary objects will no longer be allowed to be loaded via this mode unless they are explicitly allowlisted by the user via `torch.serialization.add_safe_globals`. We recommend you start setting `weights_only=True` for any use case where you don't have full control of the loaded file. Please open an issue on GitHub for any issues related to this experimental feature.\n",
            "  model = torch.load(model_path, map_location=device)  # Load the model to the appropriate device\n"
          ]
        },
        {
          "output_type": "stream",
          "name": "stdout",
          "text": [
            "The image at /content/drive/MyDrive/DentalRadiographsDataset/Dental_dataset/Childrens dental caries segmentation dataset/Healthy/images/cate1_0001.png is classified as: Healthy\n"
          ]
        }
      ]
    },
    {
      "cell_type": "code",
      "source": [
        "import torch\n",
        "import cv2\n",
        "import numpy as np\n",
        "\n",
        "model_path = \"/content/drive/MyDrive/DentalRadiographsDataset/best_resnet18_full_model.pth\"\n",
        "device = torch.device('cuda' if torch.cuda.is_available() else 'cpu')\n",
        "model = torch.load(model_path, map_location=device)\n",
        "model = model.to(device)\n",
        "\n",
        "\n",
        "def classify_image_with_probability(model, image_path):\n",
        "    model.eval()\n",
        "\n",
        "\n",
        "    image = cv2.imread(image_path, cv2.IMREAD_GRAYSCALE)\n",
        "    if image is None:\n",
        "        raise ValueError(f\"Image not found at {image_path}\")\n",
        "\n",
        "\n",
        "    image = cv2.cvtColor(image, cv2.COLOR_GRAY2RGB)\n",
        "\n",
        "\n",
        "    image = cv2.resize(image, (224, 224))\n",
        "\n",
        "\n",
        "    image = (image / 127.5) - 1\n",
        "\n",
        "    image_tensor = torch.tensor(image).permute(2, 0, 1).unsqueeze(0).float().to(device)\n",
        "\n",
        "\n",
        "    with torch.no_grad():\n",
        "        output = model(image_tensor)\n",
        "        probability = output.item()\n",
        "        prediction = (output > 0.5).float().item()\n",
        "\n",
        "\n",
        "    label = \"Caries\" if prediction == 1 else \"Healthy\"\n",
        "    return label, probability\n",
        "\n",
        "\n",
        "image_path = \"/content/drive/MyDrive/DentalRadiographsDataset/Dental_dataset/Childrens dental caries segmentation dataset/Healthy/images/cate1_0000.png\"  # Replace with your image path\n",
        "label, probability = classify_image_with_probability(model, image_path)\n",
        "print(f\"The image at {image_path} is classified as: {label}\")\n",
        "print(f\"Sigmoid output (probability of Caries): {probability:.4f}\")\n"
      ],
      "metadata": {
        "colab": {
          "base_uri": "https://localhost:8080/"
        },
        "id": "CtzY0rUgnTOI",
        "outputId": "1a675665-f9c1-4883-a54f-de0662571ddf"
      },
      "execution_count": null,
      "outputs": [
        {
          "output_type": "stream",
          "name": "stderr",
          "text": [
            "<ipython-input-10-e3a17b65ba60>:7: FutureWarning: You are using `torch.load` with `weights_only=False` (the current default value), which uses the default pickle module implicitly. It is possible to construct malicious pickle data which will execute arbitrary code during unpickling (See https://github.com/pytorch/pytorch/blob/main/SECURITY.md#untrusted-models for more details). In a future release, the default value for `weights_only` will be flipped to `True`. This limits the functions that could be executed during unpickling. Arbitrary objects will no longer be allowed to be loaded via this mode unless they are explicitly allowlisted by the user via `torch.serialization.add_safe_globals`. We recommend you start setting `weights_only=True` for any use case where you don't have full control of the loaded file. Please open an issue on GitHub for any issues related to this experimental feature.\n",
            "  model = torch.load(model_path, map_location=device)  # Load the model to the appropriate device\n"
          ]
        },
        {
          "output_type": "stream",
          "name": "stdout",
          "text": [
            "The image at /content/drive/MyDrive/DentalRadiographsDataset/Dental_dataset/Childrens dental caries segmentation dataset/Healthy/images/cate1_0000.png is classified as: Healthy\n",
            "Sigmoid output (probability of Caries): 0.0000\n"
          ]
        }
      ]
    },
    {
      "cell_type": "code",
      "source": [
        "import torch\n",
        "import numpy as np\n",
        "from sklearn.metrics import confusion_matrix, ConfusionMatrixDisplay\n",
        "import matplotlib.pyplot as plt\n",
        "\n",
        "def evaluate_model(model, dataloader):\n",
        "    model.eval()\n",
        "    all_labels = []\n",
        "    all_predictions = []\n",
        "    with torch.no_grad():\n",
        "        for inputs, labels in dataloader:\n",
        "            inputs, labels = inputs.to(device), labels.to(device).float().view(-1, 1)\n",
        "            outputs = model(inputs)\n",
        "            predictions = (outputs > 0.5).float()\n",
        "            all_labels.extend(labels.cpu().numpy())\n",
        "            all_predictions.extend(predictions.cpu().numpy())\n",
        "    return np.array(all_labels), np.array(all_predictions)\n",
        "\n",
        "\n",
        "true_labels, predictions = evaluate_model(model, test_loader)\n",
        "\n",
        "\n",
        "cm = confusion_matrix(true_labels, predictions, labels=[0, 1])\n",
        "\n",
        "\n",
        "disp = ConfusionMatrixDisplay(confusion_matrix=cm, display_labels=[\"Healthy\", \"Caries\"])\n",
        "disp.plot(cmap=plt.cm.Blues)\n",
        "plt.title(\"Confusion Matrix\")\n",
        "plt.show()\n"
      ],
      "metadata": {
        "colab": {
          "base_uri": "https://localhost:8080/",
          "height": 472
        },
        "id": "I2m4nHcgp5IC",
        "outputId": "e47e9db4-14b6-4bf2-baf0-69cc8fc78da6"
      },
      "execution_count": null,
      "outputs": [
        {
          "output_type": "display_data",
          "data": {
            "text/plain": [
              "<Figure size 640x480 with 2 Axes>"
            ],
            "image/png": "[encoded data removed]"
          },
          "metadata": {}
        }
      ]
    },
    {
      "cell_type": "code",
      "source": [
        "import matplotlib.pyplot as plt\n",
        "\n",
        "\n",
        "epochs = list(range(1, 11))\n",
        "train_accuracies = [0.7181, 0.8752, 0.9359, 0.9584, 0.9682, 0.9902, 0.9990, 0.9998, 0.9995, 0.9998]\n",
        "val_accuracies = [0.5915, 0.8850, 0.7310, 0.9107, 0.8426, 0.9777, 0.9844, 0.9810, 0.9855, 0.9833]\n",
        "\n",
        "train_losses = [0.5656, 0.2890, 0.1621, 0.1085, 0.0791, 0.0307, 0.0086, 0.0060, 0.0046, 0.0031]\n",
        "val_losses = [0.8655, 0.3093, 0.7314, 0.1971, 0.5573, 0.0467, 0.0371, 0.0407, 0.0382, 0.0310]\n",
        "\n",
        "\n",
        "plt.figure(figsize=(12, 6))\n",
        "\n",
        "plt.subplot(1, 2, 1)\n",
        "plt.plot(epochs, train_accuracies, 'g-o', label='Training Accuracy')\n",
        "plt.plot(epochs, val_accuracies, 'b-o', label='Validation Accuracy')\n",
        "plt.title('Training and Validation Accuracy')\n",
        "plt.xlabel('Epochs')\n",
        "plt.ylabel('Accuracy')\n",
        "plt.legend()\n",
        "plt.grid(True)\n",
        "\n",
        "\n",
        "plt.subplot(1, 2, 2)\n",
        "plt.plot(epochs, train_losses, 'r-o', label='Training Loss')\n",
        "plt.plot(epochs, val_losses, 'y-o', label='Validation Loss')\n",
        "plt.title('Training and Validation Loss')\n",
        "plt.xlabel('Epochs')\n",
        "plt.ylabel('Loss')\n",
        "plt.legend()\n",
        "plt.grid(True)\n",
        "\n",
        "plt.tight_layout()\n",
        "plt.show()\n"
      ],
      "metadata": {
        "colab": {
          "base_uri": "https://localhost:8080/",
          "height": 607
        },
        "id": "F2T_7kKjsx6V",
        "outputId": "a3c17cb8-e468-4cc3-8a9a-2d80e33e637a"
      },
      "execution_count": null,
      "outputs": [
        {
          "output_type": "display_data",
          "data": {
            "text/plain": [
              "<Figure size 1200x600 with 2 Axes>"
            ],
            "image/png": "[encoded data removed]"
          },
          "metadata": {}
        }
      ]
    },
    {
      "cell_type": "code",
      "source": [
        "from sklearn.metrics import accuracy_score, precision_score, recall_score, f1_score\n",
        "\n",
        "\n",
        "accuracy = accuracy_score(true_labels, (probabilities > 0.5).astype(int))\n",
        "precision = precision_score(true_labels, (probabilities > 0.5).astype(int))\n",
        "recall = recall_score(true_labels, (probabilities > 0.5).astype(int))\n",
        "f1 = f1_score(true_labels, (probabilities > 0.5).astype(int))\n",
        "\n",
        "\n",
        "print(\"\\nModel Performance Metrics:\")\n",
        "print(\"=\"*40)\n",
        "print(f\"Accuracy:  {accuracy:.4f}\")\n",
        "print(f\"Precision: {precision:.4f}\")\n",
        "print(f\"Recall:    {recall:.4f}\")\n",
        "print(f\"F1-Score:  {f1:.4f}\")\n",
        "print(\"=\"*40)\n"
      ],
      "metadata": {
        "colab": {
          "base_uri": "https://localhost:8080/"
        },
        "id": "3Rjc-iVFtv0f",
        "outputId": "ed480492-b68e-4bb3-9cfc-1e2654af28d0"
      },
      "execution_count": null,
      "outputs": [
        {
          "output_type": "stream",
          "name": "stdout",
          "text": [
            "\n",
            "Model Performance Metrics:\n",
            "========================================\n",
            "Accuracy:  0.9788\n",
            "Precision: 0.9843\n",
            "Recall:    0.9733\n",
            "F1-Score:  0.9788\n",
            "========================================\n"
          ]
        }
      ]
    },
    {
      "cell_type": "code",
      "source": [
        "import seaborn as sns\n",
        "from sklearn.metrics import confusion_matrix\n",
        "\n",
        "\n",
        "cm = confusion_matrix(true_labels, (probabilities > 0.5).astype(int), normalize='true')\n",
        "\n",
        "\n",
        "plt.figure(figsize=(8, 6))\n",
        "sns.heatmap(cm, annot=True, fmt=\".2f\", cmap=\"Blues\", xticklabels=[\"Healthy\", \"Caries\"], yticklabels=[\"Healthy\", \"Caries\"])\n",
        "plt.title(\"Confusion Matrix\", fontsize=16)\n",
        "plt.xlabel(\"True Labels\", fontsize=14)\n",
        "plt.ylabel(\"Predicted Labels\", fontsize=14)\n",
        "plt.show()\n"
      ],
      "metadata": {
        "colab": {
          "base_uri": "https://localhost:8080/",
          "height": 571
        },
        "id": "qHVE7r0muLB0",
        "outputId": "b9eefe86-090f-42f8-b6e0-092ae6184c40"
      },
      "execution_count": null,
      "outputs": [
        {
          "output_type": "display_data",
          "data": {
            "text/plain": [
              "<Figure size 800x600 with 2 Axes>"
            ],
            "image/png": "[encoded data removed]"
          },
          "metadata": {}
        }
      ]
    }
  ]
}